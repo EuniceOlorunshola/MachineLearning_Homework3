{
 "cells": [
  {
   "cell_type": "code",
   "execution_count": 1,
   "id": "97fcd247",
   "metadata": {},
   "outputs": [
    {
     "data": {
      "text/html": [
       "<div>\n",
       "<style scoped>\n",
       "    .dataframe tbody tr th:only-of-type {\n",
       "        vertical-align: middle;\n",
       "    }\n",
       "\n",
       "    .dataframe tbody tr th {\n",
       "        vertical-align: top;\n",
       "    }\n",
       "\n",
       "    .dataframe thead th {\n",
       "        text-align: right;\n",
       "    }\n",
       "</style>\n",
       "<table border=\"1\" class=\"dataframe\">\n",
       "  <thead>\n",
       "    <tr style=\"text-align: right;\">\n",
       "      <th></th>\n",
       "      <th>country</th>\n",
       "      <th>popluation_by_age_over_65</th>\n",
       "      <th>beds_per_1k</th>\n",
       "      <th>deaths_per_100K</th>\n",
       "    </tr>\n",
       "  </thead>\n",
       "  <tbody>\n",
       "    <tr>\n",
       "      <th>0</th>\n",
       "      <td>Nigeria</td>\n",
       "      <td>0.028</td>\n",
       "      <td>0.5</td>\n",
       "      <td>1.34</td>\n",
       "    </tr>\n",
       "    <tr>\n",
       "      <th>1</th>\n",
       "      <td>Haiti</td>\n",
       "      <td>0.048</td>\n",
       "      <td>0.7</td>\n",
       "      <td>5.70</td>\n",
       "    </tr>\n",
       "    <tr>\n",
       "      <th>2</th>\n",
       "      <td>France</td>\n",
       "      <td>0.197</td>\n",
       "      <td>5.9</td>\n",
       "      <td>176.69</td>\n",
       "    </tr>\n",
       "    <tr>\n",
       "      <th>3</th>\n",
       "      <td>Guinea</td>\n",
       "      <td>0.031</td>\n",
       "      <td>0.3</td>\n",
       "      <td>2.84</td>\n",
       "    </tr>\n",
       "    <tr>\n",
       "      <th>4</th>\n",
       "      <td>Jamaica</td>\n",
       "      <td>0.097</td>\n",
       "      <td>1.7</td>\n",
       "      <td>72.36</td>\n",
       "    </tr>\n",
       "    <tr>\n",
       "      <th>5</th>\n",
       "      <td>Spain</td>\n",
       "      <td>0.194</td>\n",
       "      <td>3.0</td>\n",
       "      <td>114.27</td>\n",
       "    </tr>\n",
       "    <tr>\n",
       "      <th>6</th>\n",
       "      <td>Trindad and Tobago</td>\n",
       "      <td>0.100</td>\n",
       "      <td>3.0</td>\n",
       "      <td>13.00</td>\n",
       "    </tr>\n",
       "    <tr>\n",
       "      <th>7</th>\n",
       "      <td>Japan</td>\n",
       "      <td>0.270</td>\n",
       "      <td>13.0</td>\n",
       "      <td>118.64</td>\n",
       "    </tr>\n",
       "    <tr>\n",
       "      <th>8</th>\n",
       "      <td>Hong Kong</td>\n",
       "      <td>0.163</td>\n",
       "      <td>4.9</td>\n",
       "      <td>223.38</td>\n",
       "    </tr>\n",
       "    <tr>\n",
       "      <th>9</th>\n",
       "      <td>Germany</td>\n",
       "      <td>0.215</td>\n",
       "      <td>8.0</td>\n",
       "      <td>114.71</td>\n",
       "    </tr>\n",
       "  </tbody>\n",
       "</table>\n",
       "</div>"
      ],
      "text/plain": [
       "              country  popluation_by_age_over_65  beds_per_1k  deaths_per_100K\n",
       "0            Nigeria                       0.028          0.5             1.34\n",
       "1               Haiti                      0.048          0.7             5.70\n",
       "2              France                      0.197          5.9           176.69\n",
       "3              Guinea                      0.031          0.3             2.84\n",
       "4             Jamaica                      0.097          1.7            72.36\n",
       "5               Spain                      0.194          3.0           114.27\n",
       "6  Trindad and Tobago                      0.100          3.0            13.00\n",
       "7               Japan                      0.270         13.0           118.64\n",
       "8           Hong Kong                      0.163          4.9           223.38\n",
       "9             Germany                      0.215          8.0           114.71"
      ]
     },
     "execution_count": 1,
     "metadata": {},
     "output_type": "execute_result"
    }
   ],
   "source": [
    "import numpy as np\n",
    "import pandas as pd\n",
    "import seaborn as sns\n",
    "import matplotlib.pyplot as plt \n",
    "import sklearn\n",
    "from sklearn.model_selection import train_test_split\n",
    "from sklearn.linear_model import LinearRegression\n",
    "from sklearn.model_selection import cross_val_score\n",
    "from sklearn.metrics import mean_squared_error\n",
    "\n",
    "#import countries.csv\n",
    "#I included a title but it was interfering with the columns so I included skiprows function to delete row 1 which was the title\n",
    "countries = pd.read_csv('countries.csv', skiprows=1)\n",
    "countries.head(11)\n"
   ]
  },
  {
   "cell_type": "code",
   "execution_count": 2,
   "id": "251279c1",
   "metadata": {},
   "outputs": [
    {
     "name": "stdout",
     "output_type": "stream",
     "text": [
      "Linear Regression R2 is: -2.0953687923418043\n",
      "The mean Squared Error of Linear Regression is: 92.92971317656759\n"
     ]
    }
   ],
   "source": [
    "# Used the link for linear regression and kfold from scikit-learn.org to help me with this homework\n",
    "# defined X and y as my columns for the index\n",
    "X = countries[['popluation_by_age_over_65', 'beds_per_1k']]\n",
    "y = countries['deaths_per_100K']\n",
    "#Creates the training and test sets for the splits \n",
    "#test_size function sets aside 20% of the data for testing and 80% for training\n",
    "X_train ,X_test, y_train, y_test = train_test_split(X, y, test_size =0.2)\n",
    "#linearregression method\n",
    "reg = LinearRegression()\n",
    "# fit linear model using the train sets\n",
    "reg.fit(X_train, y_train)\n",
    "# predict using the linear model from X test to get the prediction of scores\n",
    "x_pred = reg.predict(X_test)\n",
    "#reg.score is used to return the coefficient of dterminiation of the prediction \n",
    "#which is R^2 to get the score from the test sets\n",
    "print(\"Linear Regression R2 is:\", reg.score(X_test, y_test))\n",
    "#rmse indicates the absolute fit of the model to the dataset \n",
    "#it observes the points and points out how close the data points are to the model predicted scores\n",
    "rmse = np.sqrt(mean_squared_error(y_test, x_pred))\n",
    "print(\"The mean Squared Error of Linear Regression is:\", (rmse))\n"
   ]
  },
  {
   "cell_type": "code",
   "execution_count": 3,
   "id": "8f684d0f",
   "metadata": {},
   "outputs": [
    {
     "name": "stdout",
     "output_type": "stream",
     "text": [
      "The Cross Validation Scores are: [-45.74810753   0.84792499 -34.46272225  -2.09536879  -1.81861957]\n",
      "The Average 5 fold Cross Scores is: -16.65537863019329\n"
     ]
    }
   ],
   "source": [
    "# Now find the 5 fold Cross Validation\n",
    "# Implement 5 fold cross validation scores \n",
    "cvscores_5 = cross_val_score(reg, X, y, cv= 5)\n",
    "# print the 5 fold cross validation scores\n",
    "print(\"The Cross Validation Scores are:\", cvscores_5)\n",
    "#print the average 5 fold cross score\n",
    "#np.mean returns the average of the array elements\n",
    "print(\"The Average 5 fold Cross Scores is:\", np.mean(cvscores_5))"
   ]
  }
 ],
 "metadata": {
  "kernelspec": {
   "display_name": "Python 3",
   "language": "python",
   "name": "python3"
  },
  "language_info": {
   "codemirror_mode": {
    "name": "ipython",
    "version": 3
   },
   "file_extension": ".py",
   "mimetype": "text/x-python",
   "name": "python",
   "nbconvert_exporter": "python",
   "pygments_lexer": "ipython3",
   "version": "3.8.8"
  }
 },
 "nbformat": 4,
 "nbformat_minor": 5
}
